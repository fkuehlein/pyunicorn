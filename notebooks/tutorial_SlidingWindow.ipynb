{
 "cells": [
  {
   "attachments": {},
   "cell_type": "markdown",
   "metadata": {},
   "source": [
    "# Tutorial: Sliding Window Analysis of Non-Linear Timeseries\n",
    "\n",
    "This tutorial aims to show how regime shifts in non-linear timeseries with help of a sliding window recurrence analysis. The application of corresponding methods in the __pyunicorn__ package is illustrated with some examples.\n",
    "\n",
    "Literature:\n",
    "- [Donges et al. (2011): Identification of dynamical transitions in marine palaeoclimate records by recurrence network analysis](https://doi.org/10.5194/npg-18-545-2011)\n",
    "\n",
    "- [Donges et al. (2015): Non-linear regime shifts in Holocene Asian monsoon variability: potential impacts on cultural change and migratory patterns](https://doi.org/10.5194/cp-11-709-2015) (for underlying code see https://github.com/pik-copan/pyregimeshifts)\n",
    "\n",
    "- [Marwan et al. (2021): Nonlinear time series analysis of palaeoclimate proxy records](https://doi.org/10.1016/j.quascirev.2021.107245)\n",
    "\n",
    "Jonathan:\n",
    "> Sliding window analysis / detection of nonlinear regime shifts: hier fände ich es cool, wenn im notebook die Methoden kurz erklärt werden und dann die sliding window analyse illustriert wird mit RQA und RNA Maßen sowie VG Maßen.\n",
    "\n",
    "## 1. Introduction\n",
    "\n",
    "- Tutorial uses methods that are introduced in the RecurrenceNetwork and VisibilityGraph Tutorials.\n",
    "\n",
    "- explain purpose of sliding window to detect regime shifts\n",
    "\n",
    "- quick definition/recap of RQA, RNA and VG measures calculated in the tutorial\n",
    "\n",
    "- refer to Donges et al. 2011a (Marine paleoclimate records), Donges et al. 2015 (Holocene Asian Monsoon) and Marwan et al. 2021 (Paleoclimate proxy records)\n"
   ]
  },
  {
   "attachments": {},
   "cell_type": "markdown",
   "metadata": {},
   "source": [
    "## 2. Example: logistic map\n",
    "\n",
    "- example code from pyregimeshifts"
   ]
  },
  {
   "attachments": {},
   "cell_type": "markdown",
   "metadata": {},
   "source": [
    "## 3. Example: transient lorenz attractor, paleoclimate record\n",
    "\n",
    "- e.g. dataset from Marwan et al. 2021\n",
    "- include time delay embedding?"
   ]
  },
  {
   "attachments": {},
   "cell_type": "markdown",
   "metadata": {},
   "source": []
  }
 ],
 "metadata": {
  "kernelspec": {
   "display_name": "Python 3",
   "language": "python",
   "name": "python3"
  },
  "language_info": {
   "name": "python",
   "version": "3.7.16"
  },
  "orig_nbformat": 4,
  "vscode": {
   "interpreter": {
    "hash": "45ca354fb3f6330470f28203103c66b355f6bc9fd4170de504cc6983f9e7e887"
   }
  }
 },
 "nbformat": 4,
 "nbformat_minor": 2
}
